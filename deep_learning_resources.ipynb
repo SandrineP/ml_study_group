{
 "cells": [
  {
   "cell_type": "markdown",
   "metadata": {},
   "source": [
    "# Deep learning resources\n",
    "---"
   ]
  },
  {
   "cell_type": "markdown",
   "metadata": {},
   "source": [
    "# sgd and optimizers\n",
    "\n",
    "---\n",
    "\n",
    "[overview of stochasic gradient descent algs](http://sebastianruder.com/optimizing-gradient-descent/)\n"
   ]
  },
  {
   "cell_type": "markdown",
   "metadata": {},
   "source": [
    "# keras\n",
    "---\n",
    "\n",
    "[keras documentation](https://keras.io/)\n",
    "\n",
    "[keras examples](https://github.com/fchollet/keras/tree/master/examples)\n",
    "   - loads of good example code from keras creator for computer vision, NLP as well as RNN's etc\n",
    "    "
   ]
  },
  {
   "cell_type": "markdown",
   "metadata": {},
   "source": [
    "# free online courses and videos\n",
    "---\n",
    "\n",
    "[udacity deep learning](https://www.udacity.com/course/deep-learning--ud730)\n",
    "   - in tensorflow but gives a good rundown of fundamentals (+ math) of deep learning\n",
    "   - has quizes and projects you can do off their github\n",
    "    \n",
    "[fast ai](https://www.youtube.com/playlist?list=PLeRmE3N7ThDC6uD5aSuB6t3HRwzDDw9Sq)\n",
    "   - videos only but they also have resourse on a wiki\n",
    "   - based in keras\n",
    "   - uses kaggle competitions as the basis for many projects. \n",
    "   - pretty thorough, explains convolutions in exel spreadsheets.\n",
    "    \n",
    "[geoffery hinton's coursera course](https://www.youtube.com/playlist?list=PLoRl3Ht4JOcdU872GhiYWf6jwrk_SNhz9)\n",
    "   - videos only\n",
    "   - geoffery hinton is like the grandaddy of deep learning and is amazing. the course is a little old (2012) i think so some stuff used currently didn't exist back then. \n",
    "   - very thourough\n",
    "   \n",
    "[stanford CS231n](https://www.youtube.com/watch?v=g-PvXUjD6qg&list=PLlJy-eBtNFt6EuMxFYRiNRS07MCWN5UIA)\n",
    "   - videos only\n",
    "   - amazing and very very thorough\n",
    "   - largely deals with computer vision but also goes into some other applications a little bit.\n"
   ]
  },
  {
   "cell_type": "markdown",
   "metadata": {},
   "source": [
    "# general reading\n",
    "---\n",
    "\n",
    "[cs231n course notes ---crazily helpful and useful](http://cs231n.github.io/)\n",
    "\n",
    "\n"
   ]
  },
  {
   "cell_type": "code",
   "execution_count": null,
   "metadata": {
    "collapsed": true
   },
   "outputs": [],
   "source": []
  }
 ],
 "metadata": {
  "kernelspec": {
   "display_name": "Python 3",
   "language": "python",
   "name": "python3"
  },
  "language_info": {
   "codemirror_mode": {
    "name": "ipython",
    "version": 3
   },
   "file_extension": ".py",
   "mimetype": "text/x-python",
   "name": "python",
   "nbconvert_exporter": "python",
   "pygments_lexer": "ipython3",
   "version": "3.6.0"
  }
 },
 "nbformat": 4,
 "nbformat_minor": 2
}
