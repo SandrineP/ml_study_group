{
 "cells": [
  {
   "cell_type": "markdown",
   "metadata": {},
   "source": [
    "# git \n",
    "\n",
    "---\n",
    "\n",
    "[git udaacity course](https://www.udacity.com/course/how-to-use-git-and-github--ud775)\n",
    "\n",
    "[git cheasheet](https://services.github.com/on-demand/downloads/github-git-cheat-sheet.pdf)\n",
    "\n",
    "\n",
    "# virtualenv \n",
    "\n",
    "[hitchikers guide to python on virtualenvs](http://python-guide-pt-br.readthedocs.io/en/latest/dev/virtualenvs/)\n",
    "\n",
    "\n",
    "# pandas and numpy\n",
    "\n",
    "[udacity intro to DS course mostly focused on pandas and numpy](https://www.udacity.com/course/intro-to-data-analysis--ud170)\n",
    "\n"
   ]
  },
  {
   "cell_type": "code",
   "execution_count": null,
   "metadata": {
    "collapsed": true
   },
   "outputs": [],
   "source": []
  }
 ],
 "metadata": {
  "kernelspec": {
   "display_name": "Python 3",
   "language": "python",
   "name": "python3"
  },
  "language_info": {
   "codemirror_mode": {
    "name": "ipython",
    "version": 3
   },
   "file_extension": ".py",
   "mimetype": "text/x-python",
   "name": "python",
   "nbconvert_exporter": "python",
   "pygments_lexer": "ipython3",
   "version": "3.6.0"
  }
 },
 "nbformat": 4,
 "nbformat_minor": 2
}
